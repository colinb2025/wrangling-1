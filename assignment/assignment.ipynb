{
  "cells": [
    {
      "cell_type": "markdown",
      "id": "13ad028b-72b7-43ed-aa78-96fd4e518040",
      "metadata": {
        "id": "13ad028b-72b7-43ed-aa78-96fd4e518040"
      },
      "source": [
        "# Assignment: Data Wrangling\n",
        "## `! git clone https://github.com/DS3001/wrangling`\n",
        "## Do Q2, and one of Q1 or Q3."
      ]
    },
    {
      "cell_type": "markdown",
      "id": "5735a4d4-8be8-433a-a351-70eb8002e632",
      "metadata": {
        "id": "5735a4d4-8be8-433a-a351-70eb8002e632"
      },
      "source": [
        "# Tidy Data by Hadley Wickham - Q&A\n",
        "\n",
        "---\n",
        "\n",
        "**Q1.** Open the \"tidy_data.pdf\" document in the repo, which is a paper called Tidy Data by Hadley Wickham.\n",
        "\n",
        "---\n",
        "\n",
        "### 1. Read the abstract. What is this paper about?\n",
        "> This paper discusses data cleaning, particularly a niche called data tidying. Data tidying is the structuring of datasets to make manipulation, visualization, and modeling more feasible. Setting up this framework enables others to use it with much more ease because much less tools are needed to handle the data. Wickham also emphasizes the importance of needing to treat the data cleaning as a very structured process due to its impact later on.\n",
        "\n",
        "---\n",
        "\n",
        "### 2. Read the introduction. What is the \"tidy data standard\" intended to accomplish?\n",
        "> The \"tidy data standard\" intends to structure datasets in a way that makes manipulation, visualization, and modeling easier. Tidy data follows specific formatting which makes datasets easier to process and read due to the increased uniformity. This offers clarity, usability, and efficiency to those working with the datasets due to the framework provided opposed to spending the majority of their time cleaning and preparing the dataset. \n",
        "\n",
        "---\n",
        "\n",
        "### 3. Read the intro to section 2. What does this sentence mean: \"Like families, tidy datasets are all alike but every messy dataset is messy in its own way.\" What does this sentence mean: \"For a given dataset, it’s usually easy to figure out what are observations and what are variables, but it is surprisingly difficult to precisely define variables and observations in general.\"\n",
        "> The sentence, \"Like families, tidy datasets are all alike but every messy dataset is messy in its own way,\" means that all tidy datasets follow the same guiding principles such as consistent column names, variable names, and null value handling. However, messy datasets can be messy in a variety of unique ways, such as inconsistent variable names, missing values, or improper structure.\n",
        "\n",
        "> The sentence, \"For a given dataset, it's usually easy to figure out what are observations and what are variables, but it is surprisingly difficult to precisely define variables and observations in general\" means that in the context of a specific dataset, it's often easy to identify the rows (observations) and columns (variables). However, defining these terms universally is challenging because observations and variables can vary based on the dataset's purpose and structure.\n",
        "\n",
        "---\n",
        "\n",
        "### 4. Read Section 2.2. How does Wickham define values, variables, and observations?\n",
        "> Wickham defines:\n",
        "- **Values** as the actual data points contained within the dataset.\n",
        "- **Variables** as the attributes or properties being measured.\n",
        "- **Observations** as the individual entities or units for which measurements are recorded.\n",
        "\n",
        "---\n",
        "\n",
        "### 5. How is \"Tidy Data\" defined in section 2.3?\n",
        "> \"Tidy Data\" is defined by the following rules:\n",
        "- Each variable forms a column.\n",
        "- Each observation forms a row.\n",
        "- Each type of observational unit forms a table.\n",
        "\n",
        "---\n",
        "\n",
        "### 6. Read the intro to Section 3 and Section 3.1. What are the 5 most common problems with messy datasets? Why are the data in Table 4 messy? What is \"melting\" a dataset?\n",
        "> The five most common problems are:\n",
        "- Column headers are values, not variable names.\n",
        "- Multiple variables are stored in one column.\n",
        "- Variables are stored in both rows and columns.\n",
        "- Multiple types of observational units are stored in the same table.\n",
        "- A single observational unit is spread across multiple tables.\n",
        "\n",
        "> The data in Table 4 are messy because the column headers contain values (years) instead of variable names, which violates the tidy data principle that column headers should represent variables.\n",
        "\n",
        "> \"Melting\" a dataset involves transforming it from a wide format (where variables are spread across multiple columns) to a long format (where variables are stored in a single column), making the data easier to manipulate and analyze.\n",
        "\n",
        "---\n",
        "\n",
        "### 7. Why, specifically, is Table 11 messy but Table 12 tidy and \"molten\"?\n",
        "> Table 11 is messy because it stores multiple variables within a single column, breaking the tidy data rule of one variable per column. In contrast, Table 12 is tidy because each column represents a single variable and each row represents an observation. Table 12 is also \"molten\" because the data has been reshaped to conform to the principles of tidy data.\n",
        "\n",
        "---\n",
        "\n",
        "### 8. Read Section 6. What is the \"chicken-and-egg\" problem with focusing on tidy data? What does Wickham hope happens in the future with further work on the subject of data wrangling?\n",
        "> The \"chicken-and-egg\" problem refers to the idea that tidy data is only as useful as the tools that can work with it. Since tidy data and the tools to analyze it are interdependent, progress in one area is constrained by the other. Advancements in data formats rely on corresponding advancements in data analysis tools, and vice versa.\n",
        "\n",
        "> Wickham hopes that future research will lead to the development of new tools and frameworks for handling a wider variety of data formats. He also suggests that methodologies from cognitive science and user-centered design could improve how we design tools for data analysis, making them more intuitive and efficient.\n"
      ]
    },
    {
      "cell_type": "markdown",
      "id": "da879ea7-8aac-48a3-b6c2-daea56d2e072",
      "metadata": {
        "id": "da879ea7-8aac-48a3-b6c2-daea56d2e072"
      },
      "source": [
        "**Q2.** This question provides some practice cleaning variables which have common problems.\n",
        "1. Numeric variable: For `./data/airbnb_hw.csv`, clean the `Price` variable as well as you can, and explain the choices you make. How many missing values do you end up with? (Hint: What happens to the formatting when a price goes over 999 dollars, say from 675 to 1,112?)\n",
        "\n",
        "\n",
        "2. Categorical variable: For the `./data/sharks.csv` data covered in the lecture, clean the \"Type\" variable as well as you can, and explain the choices you make.\n",
        "\n",
        "\n",
        "3. Dummy variable: For the pretrial data covered in the lecture, clean the `WhetherDefendantWasReleasedPretrial` variable as well as you can, and, in particular, replace missing values with `np.nan`.\n",
        "\n",
        "\n",
        "4. Missing values, not at random: For the pretrial data covered in the lecture, clean the `ImposedSentenceAllChargeInContactEvent` variable as well as you can, and explain the choices you make. (Hint: Look at the `SentenceTypeAllChargesAtConvictionInContactEvent` variable.)"
      ]
    },
    {
      "cell_type": "code",
      "execution_count": 7,
      "id": "0ae2d302",
      "metadata": {},
      "outputs": [
        {
          "name": "stdout",
          "output_type": "stream",
          "text": [
            "Adjusted values: 181\n"
          ]
        }
      ],
      "source": [
        "import pandas as pd\n",
        "\n",
        "df_airbnb = pd.read_csv('./data/airbnb_hw.csv')\n",
        "\n",
        "adjusted_values = 0\n",
        "for price in df_airbnb['Price']:\n",
        "    for values in price:\n",
        "        if values == ',':\n",
        "            adjusted_values += 1\n",
        "\n",
        "df_airbnb['Price'] = df_airbnb['Price'].replace({',': ''}, regex=True).astype(float)\n",
        "\n",
        "print(f\"Adjusted values: {adjusted_values}\")"
      ]
    },
    {
      "cell_type": "markdown",
      "id": "19c9ad5a",
      "metadata": {},
      "source": [
        "My approach to cleaning the data for the airbnb data was to replace all commas with nothing in order to standardize the data. This is done using a replace statement but prior to replacing them, I loop through the 'Price' column and count all values that contain a comma, resulting in 181 'adjusted' values. However, because we do not remove any values, there are no deleted values. "
      ]
    },
    {
      "cell_type": "code",
      "execution_count": 9,
      "id": "8c28f793",
      "metadata": {},
      "outputs": [
        {
          "name": "stdout",
          "output_type": "stream",
          "text": [
            "Unique values after cleaning: ['Unprovoked' 'Provoked' 'Questionable' 'Watercraft' 'Boating'\n",
            " 'Sea Disaster' 'Boat']\n"
          ]
        }
      ],
      "source": [
        "import numpy as np\n",
        "import pandas as pd\n",
        "\n",
        "df_sharks = pd.read_csv('./data/sharks.csv', low_memory=False)\n",
        "\n",
        "unique_values = df_sharks['Type'].unique()\n",
        "bad_values = ['Unverified', 'Invalid', 'Under investigation', 'Unconfirmed', 'Boatomg', np.nan]\n",
        "\n",
        "df_cleaned = df_sharks[~df_sharks['Type'].isin(bad_values)].dropna(subset=['Type'])\n",
        "unique_values_after = df_cleaned['Type'].unique()\n"
      ]
    },
    {
      "cell_type": "markdown",
      "id": "8e0904b5",
      "metadata": {},
      "source": [
        "I printed the types of shark attacks, realizing that there are a lot of reports that may skew the data. These types of reports include 'Unverified', 'Invalid', 'Under investigation', 'Unconfirmed', 'Boatomg', and null values. These are all reports that aren't confirmed accurate and in such a large data set, they are not needed to draw conclusion when we have better data to base our analytics off of. This led to me filtering attacks with those 'Type' of statuses out of the report due to their questionable statuses. "
      ]
    },
    {
      "cell_type": "code",
      "execution_count": 4,
      "id": "7907f2d7",
      "metadata": {},
      "outputs": [],
      "source": [
        "import numpy as np\n",
        "import pandas as pd\n",
        "\n",
        "df_pretrial = pd.read_parquet('./data/justice_data.parquet')\n",
        "\n",
        "df_pretrial['WhetherDefendantWasReleasedPretrial'] = df_pretrial['WhetherDefendantWasReleasedPretrial'].map({'Yes': 1, 'No': 0})\n",
        "\n",
        "df_pretrial['WhetherDefendantWasReleasedPretrial'] = df_pretrial['WhetherDefendantWasReleasedPretrial'].replace({'': np.nan, None: np.nan})\n"
      ]
    },
    {
      "cell_type": "code",
      "execution_count": 1,
      "id": "a070a25c",
      "metadata": {},
      "outputs": [
        {
          "name": "stdout",
          "output_type": "stream",
          "text": [
            "   ImposedSentenceAllChargeInContactEvent  \\\n",
            "0                                     3.0   \n",
            "1                                    60.0   \n",
            "2                                    12.0   \n",
            "3                                     3.0   \n",
            "4                                     3.0   \n",
            "\n",
            "   SentenceTypeAllChargesAtConvictionInContactEvent  \n",
            "0                                                 9  \n",
            "1                                                 0  \n",
            "2                                                 1  \n",
            "3                                                 1  \n",
            "4                                                 4  \n"
          ]
        }
      ],
      "source": [
        "import pandas as pd\n",
        "import numpy as np\n",
        "import re\n",
        "\n",
        "df_pretrial = pd.read_csv('../pretrial_data.csv', low_memory=False)\n",
        "\n",
        "def clean_imposed_sentence(value):\n",
        "    if pd.isna(value):\n",
        "        return np.nan\n",
        "    \n",
        "    value = str(value).strip()\n",
        "    \n",
        "    if re.match(r'^\\d+$', value):\n",
        "        return float(value)\n",
        "    \n",
        "    elif re.match(r'(\\d+)-(\\d+)', value):\n",
        "        return np.mean([float(x) for x in re.findall(r'\\d+', value)])\n",
        "    \n",
        "    elif 'year' in value.lower():\n",
        "        numbers = re.findall(r'\\d+', value)\n",
        "        if numbers:\n",
        "            return float(numbers[0]) * 12\n",
        "    \n",
        "    elif 'month' in value.lower():\n",
        "        numbers = re.findall(r'\\d+', value)\n",
        "        if numbers:\n",
        "            return float(numbers[0])\n",
        "\n",
        "    return np.nan\n",
        "\n",
        "df_pretrial['ImposedSentenceAllChargeInContactEvent'] = df_pretrial['ImposedSentenceAllChargeInContactEvent'].apply(clean_imposed_sentence)\n",
        "\n",
        "median_value = df_pretrial['ImposedSentenceAllChargeInContactEvent'].median()\n",
        "df_pretrial['ImposedSentenceAllChargeInContactEvent'].fillna(median_value, inplace=True)\n",
        "\n",
        "median_sentence_type = df_pretrial['SentenceTypeAllChargesAtConvictionInContactEvent'].median()\n",
        "df_pretrial['SentenceTypeAllChargesAtConvictionInContactEvent'].fillna(median_sentence_type, inplace=True)\n",
        "\n",
        "print(df_pretrial[['ImposedSentenceAllChargeInContactEvent', 'SentenceTypeAllChargesAtConvictionInContactEvent']].head())\n"
      ]
    },
    {
      "cell_type": "markdown",
      "id": "d12234a4",
      "metadata": {},
      "source": [
        "First, I converted all values under 'ImposedSentenceAllChargeInContactEvent' in order to ensure that all values are consistent and that sentences measured in years do not impact the data. If the sentence is a range of two dates, it will take the average of the bottom and top range and replace that as the value. If values are missing in the 'SentenceTypeAllChargesAtConvictionInContactEvent' variable, I replaced them with the median value to provide value to the missing data due to the size of the data. In other words, each sentence has so much meaningful data so I don't want to delete the whole row of data just because of one missing value. "
      ]
    },
    {
      "cell_type": "markdown",
      "id": "649494cd-cfd6-4f80-992a-9994fc19e1d5",
      "metadata": {
        "id": "649494cd-cfd6-4f80-992a-9994fc19e1d5"
      },
      "source": [
        "**Q3.** Many important datasets contain a race variable, typically limited to a handful of values often including Black, White, Asian, Latino, and Indigenous. This question looks at data gathering efforts on this variable by the U.S. Federal government.\n",
        "\n",
        "1. How did the most recent US Census gather data on race?\n",
        "2. Why do we gather these data? What role do these kinds of data play in politics and society? Why does data quality matter?\n",
        "3. Please provide a constructive criticism of how the Census was conducted: What was done well? What do you think was missing? How should future large scale surveys be adjusted to best reflect the diversity of the population? Could some of the Census' good practices be adopted more widely to gather richer and more useful data?\n",
        "4. How did the Census gather data on sex and gender? Please provide a similar constructive criticism of their practices.\n",
        "5. When it comes to cleaning data, what concerns do you have about protected characteristics like sex, gender, sexual identity, or race? What challenges can you imagine arising when there are missing values? What good or bad practices might people adopt, and why?\n",
        "6. Suppose someone invented an algorithm to impute values for protected characteristics like race, gender, sex, or sexuality. What kinds of concerns would you have?"
      ]
    }
  ],
  "metadata": {
    "colab": {
      "provenance": []
    },
    "kernelspec": {
      "display_name": "Python 3 (ipykernel)",
      "language": "python",
      "name": "python3"
    },
    "language_info": {
      "codemirror_mode": {
        "name": "ipython",
        "version": 3
      },
      "file_extension": ".py",
      "mimetype": "text/x-python",
      "name": "python",
      "nbconvert_exporter": "python",
      "pygments_lexer": "ipython3",
      "version": "3.11.5"
    }
  },
  "nbformat": 4,
  "nbformat_minor": 5
}
